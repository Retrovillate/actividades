{
 "cells": [
  {
   "cell_type": "markdown",
   "metadata": {},
   "source": [
    "## Ejercicio 1\n",
    "\n",
    "Crea una función llamada ejercicio1, que recibe la ruta donde se encuentra un dataset y devuelve una DataFrame con los datos que hay en el dataset. Para comprobar esta función utiliza el dataset `titanic.csv` que se incluye en esta actividad."
   ]
  },
  {
   "cell_type": "code",
   "execution_count": 43,
   "metadata": {},
   "outputs": [],
   "source": [
    "import pandas as pd\n",
    "\n",
    "def ejercicio1(rutaDataSet):\n",
    "    \n",
    "    return pd.read_csv(rutaDataSet)"
   ]
  },
  {
   "cell_type": "markdown",
   "metadata": {},
   "source": [
    "## Ejercicio 2\n",
    "\n",
    "Crea otra función llamada ejercicio2. Esta función recibe un único argumento que es un dataframe. En concreto debe recibir el dataframe que se ha obtenido de leer el dataset `titanic.csv`. Esta función devolverá otro dataset que incluya únicamente a los pasajeros menores de 35 años y que viajaban en 3ª clase."
   ]
  },
  {
   "cell_type": "code",
   "execution_count": 39,
   "metadata": {},
   "outputs": [],
   "source": [
    "def ejercicio2(dataFrameTitanic):\n",
    "    \n",
    "    edadLimite = 35\n",
    "    claseLimite = 3\n",
    "    edad = \"Age\"\n",
    "    clase = \"Pclass\"\n",
    "    \n",
    "    dataFiltro = dataFrameTitanic.apply(lambda item: item[edad] < edadLimite and item[clase] == claseLimite, axis= 1)\n",
    "    \n",
    "    dataSalida = dataFrameTitanic[dataFiltro]\n",
    "    \n",
    "    return dataSalida\n",
    "    "
   ]
  },
  {
   "cell_type": "markdown",
   "metadata": {},
   "source": [
    "## Ejercicio 3\n",
    "\n",
    "Crea una función llamada ejercicio3, que recibiendo como argumento el dataframe del dataset `titanic.csv`, calcule el porcentaje de persona que sobrevieron. Redondee el resultado al segundo decimal."
   ]
  },
  {
   "cell_type": "code",
   "execution_count": null,
   "metadata": {},
   "outputs": [],
   "source": [
    "def ejercicio3(dataFrameTitanic):\n",
    "    \n",
    "    vivir=\"Survived\"\n",
    "    valorVivir =1\n",
    "    cifra = 2\n",
    "    cienPor = 100\n",
    "    tamaOrig = len(dataFrameTitanic)\n",
    "    dataFiltro = dataFrameTitanic.apply(lambda item: item[vivir] == valorVivir, axis= 1)\n",
    "    dataSalida = dataFrameTitanic[dataFiltro]\n",
    "    tamaVivir = len(dataSalida)\n",
    "    porcenVivir = round((tamaVivir*cienPor)/tamaOrig,cifra)\n",
    "    \n",
    "    return porcenVivir\n",
    "    \n",
    "    "
   ]
  },
  {
   "cell_type": "markdown",
   "metadata": {},
   "source": [
    "## Ejercicio 4\n",
    "\n",
    "Implementa una función llamada ejercicio4 que recibiendo el dataframe con los datos del Titanic, devuelva en una tupla el porcentaje de hombres y mujeres que viajaban en el Titanic, redondeados al segundo decimal."
   ]
  },
  {
   "cell_type": "code",
   "execution_count": 58,
   "metadata": {},
   "outputs": [],
   "source": [
    "def ejercicio4(dataFrameTitanic):\n",
    "    \n",
    "    sexo = \"Sex\"\n",
    "    pasajero = \"PassengerId\"\n",
    "    posHombres = 0\n",
    "    posMujeres = 1\n",
    "    cifra = 2\n",
    "    cienPor = 100\n",
    "    tamaOrig = len(dataFrameTitanic)\n",
    "    dataframeSex = dataFrameTitanic.groupby(by = sexo).count() \n",
    "    sexoFiltro = dataframeSex[pasajero]\n",
    "    hombres = sexoFiltro[posHombres] \n",
    "    mujeres = sexoFiltro[posMujeres]\n",
    "    porcenHombre = round((hombres*cienPor)/tamaOrig,cifra)\n",
    "    porcenMujer = round((mujeres*cienPor)/tamaOrig,cifra)\n",
    "    \n",
    "    salida = porcenMujer, porcenHombre\n",
    "    \n",
    "    return salida\n",
    "    \n",
    "    "
   ]
  },
  {
   "cell_type": "markdown",
   "metadata": {},
   "source": [
    "## Ejercicio 5\n",
    "\n",
    "\n",
    "Implementa una función llamada ejercicio5 que recibiendo el dataframe con los datos del Titanic, devuelva en una lista el número de pasajeros que viajaban en 1ª, 2ª y 3ª clase."
   ]
  },
  {
   "cell_type": "code",
   "execution_count": 74,
   "metadata": {},
   "outputs": [],
   "source": [
    "def ejercicio5(dataFrameTitanic):\n",
    "    \n",
    "    clase = \"Pclass\"\n",
    "    pasajero = \"PassengerId\"\n",
    "    posClase1 =1\n",
    "    posClase2 =2\n",
    "    posClase3 =3\n",
    "    dataframeClase = dataFrameTitanic.groupby(by = clase).count()\n",
    "    claseFiltro = dataframeClase[pasajero]\n",
    "    salida = [claseFiltro[posClase1], claseFiltro[posClase2], claseFiltro[posClase3]]\n",
    "    \n",
    "    return salida"
   ]
  }
 ],
 "metadata": {
  "kernelspec": {
   "display_name": "Python 3 (ipykernel)",
   "language": "python",
   "name": "python3"
  },
  "language_info": {
   "codemirror_mode": {
    "name": "ipython",
    "version": 3
   },
   "file_extension": ".py",
   "mimetype": "text/x-python",
   "name": "python",
   "nbconvert_exporter": "python",
   "pygments_lexer": "ipython3",
   "version": "3.9.7"
  }
 },
 "nbformat": 4,
 "nbformat_minor": 2
}
